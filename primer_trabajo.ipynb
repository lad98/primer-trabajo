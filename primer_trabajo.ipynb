{
  "nbformat": 4,
  "nbformat_minor": 0,
  "metadata": {
    "colab": {
      "provenance": [],
      "authorship_tag": "ABX9TyPCZIAF+2GDQoR4PuVMM3P7",
      "include_colab_link": true
    },
    "kernelspec": {
      "name": "python3",
      "display_name": "Python 3"
    },
    "language_info": {
      "name": "python"
    }
  },
  "cells": [
    {
      "cell_type": "markdown",
      "metadata": {
        "id": "view-in-github",
        "colab_type": "text"
      },
      "source": [
        "<a href=\"https://colab.research.google.com/github/lad98/primer-trabajo/blob/main/primer_trabajo.ipynb\" target=\"_parent\"><img src=\"https://colab.research.google.com/assets/colab-badge.svg\" alt=\"Open In Colab\"/></a>"
      ]
    },
    {
      "cell_type": "code",
      "execution_count": null,
      "metadata": {
        "colab": {
          "base_uri": "https://localhost:8080/"
        },
        "collapsed": true,
        "id": "nIIFtoezaSvn",
        "outputId": "8028f508-8d1c-43d9-b6d7-58a4e014f5f6"
      },
      "outputs": [
        {
          "output_type": "stream",
          "name": "stdout",
          "text": [
            " Dame un número 3\n",
            " Dame otro número 7\n",
            " La suma de los número es \n",
            "10\n",
            " La resta de los números es \n",
            "-4\n",
            " La multiplicación de los números es \n",
            "21\n",
            " La división de los números es \n",
            "0.42857142857142855\n",
            " El módulo de los números es \n",
            "3\n"
          ]
        }
      ],
      "source": [
        "while True:\n",
        "    try:\n",
        "        a=int(input(\" Dame un número \"))\n",
        "        break\n",
        "    except ValueError:\n",
        "        print(\"Ese no es un número, intenta de nuevo\")\n",
        "while True:\n",
        "    try:\n",
        "        b=int(input(\" Dame otro número \"))\n",
        "        break\n",
        "    except ValueError:\n",
        "        print(\"Ese no es un número, intenta de nuevo\")\n",
        "print(\" La suma de los número es \")\n",
        "print (a+b)\n",
        "print (\" La resta de los números es \")\n",
        "print(a-b)\n",
        "print (\" La multiplicación de los números es \")\n",
        "print (a*b)\n",
        "print (\" La división de los números es \")\n",
        "print (a/b)\n",
        "print (\" El módulo de los números es \")\n",
        "print (a%b)"
      ]
    },
    {
      "cell_type": "code",
      "source": [],
      "metadata": {
        "id": "QmFMC0_Hj0a1"
      },
      "execution_count": null,
      "outputs": []
    },
    {
      "cell_type": "code",
      "source": [
        "A=10\n",
        "print(\"10 aumentado en 5\")\n",
        "A=int(A+5)\n",
        "print (A)\n",
        "print(\"Menos 3 \")\n",
        "A=int(A-3)\n",
        "print(A)\n",
        "print(\"Multiplicado por 2\")\n",
        "A=int(A*2)\n",
        "print(A)\n",
        "print(\"Dividido entre 4\")\n",
        "print(A/4)\n"
      ],
      "metadata": {
        "colab": {
          "base_uri": "https://localhost:8080/"
        },
        "id": "qn6LuBxSfxKo",
        "outputId": "ed553ba5-6e76-478d-dd85-f87f033ed674"
      },
      "execution_count": null,
      "outputs": [
        {
          "output_type": "stream",
          "name": "stdout",
          "text": [
            "10 aumentado en 5\n",
            "15\n",
            "Menos 3 \n",
            "12\n",
            "Multiplicado por 2\n",
            "24\n",
            "Dividido entre 4\n",
            "6.0\n"
          ]
        }
      ]
    },
    {
      "cell_type": "code",
      "source": [
        "A=float(input(\" Dame el precio base del producto: \"))\n",
        "B=float(input(\" Dame el porcentaje de descuento: \"))\n",
        "print (\" El precio final del producto es \")\n",
        "print (A-(A*B/100))"
      ],
      "metadata": {
        "colab": {
          "base_uri": "https://localhost:8080/"
        },
        "id": "lPPATZnyfPLR",
        "outputId": "936023d5-6d5f-4312-8d91-5ce81c0e8a2c"
      },
      "execution_count": null,
      "outputs": [
        {
          "output_type": "stream",
          "name": "stdout",
          "text": [
            " Dame el precio base del producto: 123\n",
            " Dame el porcentaje de descuento: 15\n",
            " El precio final del producto es \n",
            "104.55\n"
          ]
        }
      ]
    }
  ]
}